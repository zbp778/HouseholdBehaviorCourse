{
 "cells": [
  {
   "attachments": {},
   "cell_type": "markdown",
   "metadata": {},
   "source": [
    "# Life-Cycle Labor Supply of Couples with Children"
   ]
  },
  {
   "attachments": {},
   "cell_type": "markdown",
   "metadata": {},
   "source": [
    "Solves and simulates a $T$-period labor supply model with two-earner couples. <br>\n",
    "**Motivated** by the study “Child-Related Transfers, Household Labor Supply and Welfare” by [Guner et al. (2020)](https://academic.oup.com/restud/article/87/5/2290/5809564). <br>\n",
    "**Goal** is to replicate effects of child-related transfers.\n",
    "\n",
    "For simplicity, couples cannot divorce nor save.\n",
    "\n",
    "The **Bellman equation** and the recursive formulation of our simple model is \n",
    "$$\n",
    "\\begin{align*}\n",
    "V_{t}(n_{t},K_{1,t},K_{2,t}) & =\\max_{h_{1,t},h_{2,t}}U(c_{t},h_{1,t},h_{2,t},n_{t})\\\\\n",
    " & \\qquad\\qquad+\\beta\\mathbb{E}_{t}[V_{t+1}(n_{t+1},K_{1,t+1},K_{2,t+1})]\\\\\n",
    "c_{t} & =\\sum_{j=1}^{2}w_{j,t}h_{j,t}-T(w_{1,t}h_{1,t},w_{2,t}h_{2,t})\\\\\n",
    " & \\qquad+\\mathcal{C}(n_{t},h_{1,t},h_{2,t},w_{1,t},w_{2,t})\\\\\n",
    "n_{t+1} & =\\begin{cases}\n",
    "\\begin{array}{ll}\n",
    "n_t+ 1 & \\text{with prob. } p(n_{t})\\\\\n",
    "n_t & \\text{with prob. } 1-p(n_{t})\n",
    "\\end{array}\\end{cases}\\\\\n",
    "\\log w_{j,t} & =\\alpha_{j,0}+\\alpha_{j,1}K_{j,t},\\;j\\in\\{1,2\\}\\\\\n",
    "K_{j,t+1} & =(1-\\delta)K_{j,t}+h_{j,t},\\;j\\in\\{1,2\\}\\\\\n",
    "p(n_t)=&\\begin{cases}\n",
    "\\begin{array}{ll}\n",
    "p_n & \\text{if } n_{t}=0\\\\\n",
    "0 &  \\text{if } n_{t}=1.\n",
    "\\end{array}\\end{cases}\n",
    "\\end{align*}\n",
    "$$\n",
    "\n",
    "**Child-related transfers:** We assume that if both work, they have to buy childcare. <br>\n",
    "This means that conditional transfers are always a subsidy (cannot do 5 or 6 in taxonomy of Guner et al. (2020)). <br>\n",
    "Child-related transfers are\n",
    "$$\n",
    "\\begin{align*}\n",
    "\\mathcal{C}(n_{t},h_{1,t},h_{2,t},w_{1,t},w_{2,t}) & =\\mathcal{C}_{1}(n_{t})+\\mathcal{C}_{2}(n_{t},Y_{t})\\\\\n",
    " & +[\\mathcal{C}_{3}(n_{t})+\\mathcal{C}_{4}(n_{t},Y_{t})]\\cdot\\mathbf{1}(h_{1,t}\\cdot h_{2,t}>0)\n",
    "\\end{align*}\n",
    "$$\n",
    "where household income is\n",
    "$$\n",
    "Y_{t}=\\sum_{j=1}^{2}w_{j,t}h_{j,t}.\n",
    "$$\n",
    "\n",
    "The code could look something like\n",
    "```python\n",
    "def child_tran(self,hours1,hours2,income_hh,kids):\n",
    "    par = self.par\n",
    "    if kids<1:\n",
    "        return 0.0\n",
    "    \n",
    "    else:\n",
    "        C1 = par.uncon_uni                           #unconditional, universal transfer (>0)\n",
    "        C2 = np.fmax(par.means_level - par.means_slope*income_hh , 0.0) #means-tested transfer (>0)\n",
    "        # child-care related (net-of-subsidy costs)\n",
    "        both_work = (hours1>0) * (hours2>0)\n",
    "        C3 = par.cond*both_work                      #all working couples has this net cost (<0)\n",
    "        C4 = par.cond_high*both_work*(income_hh>0.5) #low-income couples do not have this net-cost (<0)\n",
    "\n",
    "    return C1+C2+C3+C4\n",
    "```\n",
    "\n",
    "**Preferences** are sum of individuals\n",
    "$$\n",
    "U(c_{t},h_{1,t},h_{2,t})=2\\frac{(c_{t}/2)^{1+\\eta}}{1+\\eta}-\\rho_{1}(n_{t})\\frac{h_{1,t}^{1+\\gamma}}{1+\\gamma}-\\rho_{2}(n_{t})\\frac{h_{2,t}^{1+\\gamma}}{1+\\gamma}\n",
    "$$\n",
    "with \n",
    "$$\n",
    "\\rho_{j}(n_{t})=\\rho_{0,j}+\\rho_{1,j}n_{t}\n",
    "$$\n",
    "\n",
    "**Taxes** are on the household level and child-related transfers/costs are included in taxable income\n",
    "$$\n",
    "T(\\tilde{Y})=(1-\\lambda(\\tilde{Y})^{-\\tau})\\cdot(\\tilde{Y})\n",
    "$$\n",
    "where $\\tilde{Y} = Y + \\mathcal{C}(n_{t},h_{1,t},h_{2,t},w_{1,t},w_{2,t})$.\n",
    "\n",
    "**Expected value** is\n",
    "$$\n",
    "\\begin{align*}\n",
    "\\mathbb{E}_{t}[V_{t+1}(n_{t+1},K_{1,t+1},K_{2,t+1})] & =p(n_{t})V_{t+1}(n_{t}+1,K_{1,t+1},K_{2,t+1})\\\\\n",
    " & +(1-p(n_{t}))V_{t+1}(n_{t},K_{1,t+1},K_{2,t+1})\n",
    "\\end{align*}\n",
    "$$\n",
    "\n",
    "**Terminal period:** There are no bequests such that\n",
    "$$\n",
    "V_{T}(n_T,K_{1,T},K_{2,T})  =\\max_{h_{1,T},h_{2,T}}U(c_{T},h_{1,T},h_{2,T})\n",
    "$$"
   ]
  },
  {
   "cell_type": "markdown",
   "metadata": {},
   "source": [
    "## Setup"
   ]
  },
  {
   "cell_type": "code",
   "execution_count": 14,
   "metadata": {},
   "outputs": [
    {
     "name": "stdout",
     "output_type": "stream",
     "text": [
      "The autoreload extension is already loaded. To reload it, use:\n",
      "  %reload_ext autoreload\n"
     ]
    }
   ],
   "source": [
    "%load_ext autoreload\n",
    "%autoreload 2\n",
    "\n",
    "import numpy as np\n",
    "import numba as nb\n",
    "\n",
    "import matplotlib.pyplot as plt\n",
    "from mpl_toolkits import mplot3d\n",
    "\n",
    "from CouplesWithChildren import *"
   ]
  },
  {
   "cell_type": "markdown",
   "metadata": {},
   "source": [
    "# Dual-Earner Model with Children"
   ]
  },
  {
   "cell_type": "code",
   "execution_count": 26,
   "metadata": {},
   "outputs": [
    {
     "name": "stdout",
     "output_type": "stream",
     "text": [
      "9\n",
      "(0, 0.0, 0.0)\n",
      "[0.1 0.1]\n"
     ]
    },
    {
     "ename": "TypeError",
     "evalue": "DynHouseholdLaborModelClass.util() takes 5 positional arguments but 6 were given",
     "output_type": "error",
     "traceback": [
      "\u001b[1;31m---------------------------------------------------------------------------\u001b[0m",
      "\u001b[1;31mTypeError\u001b[0m                                 Traceback (most recent call last)",
      "Cell \u001b[1;32mIn[26], line 9\u001b[0m\n\u001b[0;32m      6\u001b[0m sim\u001b[38;5;241m=\u001b[39mCouple\u001b[38;5;241m.\u001b[39msim\n\u001b[0;32m      8\u001b[0m Couple\u001b[38;5;241m.\u001b[39mpar\n\u001b[1;32m----> 9\u001b[0m Couple\u001b[38;5;241m.\u001b[39msolve()\n",
      "File \u001b[1;32mc:\\Users\\krist\\OneDrive\\Skrivebord\\HouseholdBehaviorCourse-2\\07\\CouplesWithChildren.py:135\u001b[0m, in \u001b[0;36mDynHouseholdLaborModelClass.solve\u001b[1;34m(self)\u001b[0m\n\u001b[0;32m    133\u001b[0m     init_h[\u001b[38;5;241m1\u001b[39m] \u001b[38;5;241m=\u001b[39m sol\u001b[38;5;241m.\u001b[39mh2[t,i_n,i_k1,i_k2\u001b[38;5;241m-\u001b[39m\u001b[38;5;241m1\u001b[39m]\n\u001b[0;32m    134\u001b[0m \u001b[38;5;28mprint\u001b[39m(init_h)\n\u001b[1;32m--> 135\u001b[0m \u001b[38;5;28mprint\u001b[39m(obj([init_h[\u001b[38;5;241m0\u001b[39m],init_h[\u001b[38;5;241m1\u001b[39m]]))\n\u001b[0;32m    136\u001b[0m res \u001b[38;5;241m=\u001b[39m minimize(obj,init_h,bounds\u001b[38;5;241m=\u001b[39mbounds) \n\u001b[0;32m    139\u001b[0m \u001b[38;5;66;03m# store results\u001b[39;00m\n",
      "File \u001b[1;32mc:\\Users\\krist\\OneDrive\\Skrivebord\\HouseholdBehaviorCourse-2\\07\\CouplesWithChildren.py:121\u001b[0m, in \u001b[0;36mDynHouseholdLaborModelClass.solve.<locals>.<lambda>\u001b[1;34m(x)\u001b[0m\n\u001b[0;32m    119\u001b[0m \u001b[38;5;28;01mif\u001b[39;00m t\u001b[38;5;241m==\u001b[39m(par\u001b[38;5;241m.\u001b[39mT\u001b[38;5;241m-\u001b[39m\u001b[38;5;241m1\u001b[39m): \u001b[38;5;66;03m# last period\u001b[39;00m\n\u001b[0;32m    120\u001b[0m     \u001b[38;5;28mprint\u001b[39m(\u001b[38;5;124mf\u001b[39m\u001b[38;5;124m\"\u001b[39m\u001b[38;5;132;01m{\u001b[39;00mkids,capital1,capital2\u001b[38;5;132;01m}\u001b[39;00m\u001b[38;5;124m\"\u001b[39m)\n\u001b[1;32m--> 121\u001b[0m     obj \u001b[38;5;241m=\u001b[39m \u001b[38;5;28;01mlambda\u001b[39;00m x: \u001b[38;5;241m-\u001b[39m\u001b[38;5;28mself\u001b[39m\u001b[38;5;241m.\u001b[39mutil(x[\u001b[38;5;241m0\u001b[39m],x[\u001b[38;5;241m1\u001b[39m],kids,capital1,capital2)\n\u001b[0;32m    123\u001b[0m \u001b[38;5;28;01melse\u001b[39;00m:\n\u001b[0;32m    124\u001b[0m     obj \u001b[38;5;241m=\u001b[39m \u001b[38;5;28;01mlambda\u001b[39;00m x: \u001b[38;5;241m-\u001b[39m \u001b[38;5;28mself\u001b[39m\u001b[38;5;241m.\u001b[39mvalue_of_choice(x[\u001b[38;5;241m0\u001b[39m],x[\u001b[38;5;241m1\u001b[39m],t,kids,capital1,capital2)  \n",
      "\u001b[1;31mTypeError\u001b[0m: DynHouseholdLaborModelClass.util() takes 5 positional arguments but 6 were given"
     ]
    }
   ],
   "source": [
    "#Initialise instance of class\n",
    "Couple=DynHouseholdLaborModelClass()\n",
    "\n",
    "sol=Couple.sol\n",
    "par=Couple.par\n",
    "sim=Couple.sim\n",
    "\n",
    "Couple.par\n",
    "Couple.solve()"
   ]
  },
  {
   "attachments": {},
   "cell_type": "markdown",
   "metadata": {},
   "source": [
    "# Simulate child-related transfers reforms"
   ]
  },
  {
   "cell_type": "code",
   "execution_count": 3,
   "metadata": {},
   "outputs": [],
   "source": [
    "# modify code and run it..."
   ]
  }
 ],
 "metadata": {
  "kernelspec": {
   "display_name": "Python 3",
   "language": "python",
   "name": "python3"
  },
  "language_info": {
   "codemirror_mode": {
    "name": "ipython",
    "version": 3
   },
   "file_extension": ".py",
   "mimetype": "text/x-python",
   "name": "python",
   "nbconvert_exporter": "python",
   "pygments_lexer": "ipython3",
   "version": "3.11.7"
  },
  "toc-autonumbering": true,
  "vscode": {
   "interpreter": {
    "hash": "2a1ca330d9582a7d9f549c991d1ebe88efa30325a2a9c927421566fc2176e6bd"
   }
  }
 },
 "nbformat": 4,
 "nbformat_minor": 4
}
